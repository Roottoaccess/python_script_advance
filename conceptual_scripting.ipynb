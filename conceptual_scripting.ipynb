{
  "cells": [
    {
      "cell_type": "code",
      "source": [
        "print(2 ** 3 ** 2)"
      ],
      "metadata": {
        "id": "QogVGRd8LCNs",
        "outputId": "84ec093f-7e51-4848-cd09-9573b8b23e9e",
        "colab": {
          "base_uri": "https://localhost:8080/"
        }
      },
      "execution_count": 1,
      "outputs": [
        {
          "output_type": "stream",
          "name": "stdout",
          "text": [
            "512\n"
          ]
        }
      ]
    },
    {
      "cell_type": "code",
      "source": [
        "a = 300; b = 300\n",
        "print(a is b) # This is the first break down\n",
        "a = 3; b = 3\n",
        "print(a is b) # This is the second break down"
      ],
      "metadata": {
        "id": "Ff2OtIdyLHBz",
        "outputId": "3f909773-f4f4-4472-b02a-e71513f6f1d0",
        "colab": {
          "base_uri": "https://localhost:8080/"
        }
      },
      "execution_count": 2,
      "outputs": [
        {
          "output_type": "stream",
          "name": "stdout",
          "text": [
            "False\n",
            "True\n"
          ]
        }
      ]
    },
    {
      "cell_type": "code",
      "source": [
        "numbers = [1,2,3,4]\n",
        "numbers[1:3] = [8,9]\n",
        "print(numbers)"
      ],
      "metadata": {
        "id": "TOUx9rAjL-QW",
        "outputId": "e3af8d94-3a55-47cd-cdfb-f75b94194b23",
        "colab": {
          "base_uri": "https://localhost:8080/"
        }
      },
      "execution_count": 3,
      "outputs": [
        {
          "output_type": "stream",
          "name": "stdout",
          "text": [
            "[1, 8, 9, 4]\n"
          ]
        }
      ]
    },
    {
      "cell_type": "code",
      "source": [
        "# from re import X\n",
        "def weird_function(x = []):\n",
        "  x.append(1)\n",
        "  return x\n",
        "\n",
        "print(weird_function())\n",
        "print(weird_function())\n",
        "print(weird_function())"
      ],
      "metadata": {
        "id": "7eYw4ARiM1T_",
        "outputId": "c98004dc-4de2-44e9-8f57-70b7b2562f6a",
        "colab": {
          "base_uri": "https://localhost:8080/"
        }
      },
      "execution_count": 4,
      "outputs": [
        {
          "output_type": "stream",
          "name": "stdout",
          "text": [
            "[1]\n",
            "[1, 1]\n",
            "[1, 1, 1]\n"
          ]
        }
      ]
    },
    {
      "cell_type": "code",
      "source": [
        "a = [1,2,3]\n",
        "print(a[3:])"
      ],
      "metadata": {
        "id": "ANytX9XRNcz7",
        "outputId": "3946b5fb-2097-4465-ef75-714ff93911b4",
        "colab": {
          "base_uri": "https://localhost:8080/"
        }
      },
      "execution_count": 5,
      "outputs": [
        {
          "output_type": "stream",
          "name": "stdout",
          "text": [
            "[]\n"
          ]
        }
      ]
    },
    {
      "cell_type": "code",
      "source": [
        "a = [1,2,3]\n",
        "b = a\n",
        "b.append(4)\n",
        "print(a)"
      ],
      "metadata": {
        "id": "phvLq7MUN0TQ",
        "outputId": "6087e5bf-9a75-4683-9f6a-4e5f34ba3357",
        "colab": {
          "base_uri": "https://localhost:8080/"
        }
      },
      "execution_count": 7,
      "outputs": [
        {
          "output_type": "stream",
          "name": "stdout",
          "text": [
            "[1, 2, 3, 4]\n"
          ]
        }
      ]
    }
  ],
  "metadata": {
    "colab": {
      "name": "Welcome To Colab",
      "provenance": []
    },
    "kernelspec": {
      "display_name": "Python 3",
      "name": "python3"
    }
  },
  "nbformat": 4,
  "nbformat_minor": 0
}