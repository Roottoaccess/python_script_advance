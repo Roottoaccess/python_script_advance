{
 "cells": [
  {
   "cell_type": "markdown",
   "metadata": {},
   "source": [
    "# Practising all the comprehensions in List,Tuple,Dictionary...."
   ]
  },
  {
   "cell_type": "code",
   "execution_count": 1,
   "metadata": {},
   "outputs": [
    {
     "data": {
      "text/plain": [
       "\"\\n🔹 List Comprehension Problems\\nSquares of Even Numbers\\nCreate a list of squares for all even numbers between 1 and 20.\\nFilter Vowels\\nFrom a list of characters, create a new list containing only vowels.\\nFlatten a Matrix\\nGiven [[1,2],[3,4],[5,6]], convert it to a single flat list.\\nWords with Length > 4\\nGiven a list of words, return only those with more than 4 characters.\\n🔹 Tuple Comprehension Problems\\nPython doesn’t directly support tuple comprehensions, but you can generate a tuple using a generator expression:\\n\\nTuple of Squares\\nCreate a tuple of squares of numbers from 1 to 10.\\ntuple(i**2 for i in range(1, 11))\\nTuple of Lengths\\nGiven a list of strings, return a tuple of their lengths.\\n🔹 Dictionary Comprehension Problems\\nNumber Squares Dictionary\\nCreate a dictionary where keys are numbers from 1 to 5 and values are their squares.\\nWord Length Dictionary\\nGiven a list of words, create a dictionary with words as keys and their lengths as values.\\nFlip a Dictionary\\nGiven a dictionary, swap its keys and values.\\nFilter Dictionary by Value\\nGiven {'a': 1, 'b': 3, 'c': 5}, return a new dict with only items where value > 2.\\n\""
      ]
     },
     "execution_count": 1,
     "metadata": {},
     "output_type": "execute_result"
    }
   ],
   "source": [
    "\"\"\"\n",
    "🔹 List Comprehension Problems\n",
    "Squares of Even Numbers\n",
    "Create a list of squares for all even numbers between 1 and 20.\n",
    "Filter Vowels\n",
    "From a list of characters, create a new list containing only vowels.\n",
    "Flatten a Matrix\n",
    "Given [[1,2],[3,4],[5,6]], convert it to a single flat list.\n",
    "Words with Length > 4\n",
    "Given a list of words, return only those with more than 4 characters.\n",
    "🔹 Tuple Comprehension Problems\n",
    "Python doesn’t directly support tuple comprehensions, but you can generate a tuple using a generator expression:\n",
    "\n",
    "Tuple of Squares\n",
    "Create a tuple of squares of numbers from 1 to 10.\n",
    "tuple(i**2 for i in range(1, 11))\n",
    "Tuple of Lengths\n",
    "Given a list of strings, return a tuple of their lengths.\n",
    "🔹 Dictionary Comprehension Problems\n",
    "Number Squares Dictionary\n",
    "Create a dictionary where keys are numbers from 1 to 5 and values are their squares.\n",
    "Word Length Dictionary\n",
    "Given a list of words, create a dictionary with words as keys and their lengths as values.\n",
    "Flip a Dictionary\n",
    "Given a dictionary, swap its keys and values.\n",
    "Filter Dictionary by Value\n",
    "Given {'a': 1, 'b': 3, 'c': 5}, return a new dict with only items where value > 2.\n",
    "\"\"\""
   ]
  },
  {
   "cell_type": "code",
   "execution_count": 6,
   "metadata": {},
   "outputs": [
    {
     "name": "stdout",
     "output_type": "stream",
     "text": [
      "[4, 16, 36, 64, 100, 144, 196, 256, 324]\n"
     ]
    }
   ],
   "source": [
    "# Square of even numbers....\n",
    "x = [i ** 2 for i in range(1 , 20) if i % 2 == 0]; print(x)"
   ]
  },
  {
   "cell_type": "code",
   "execution_count": 10,
   "metadata": {},
   "outputs": [
    {
     "name": "stdout",
     "output_type": "stream",
     "text": [
      "['o', 'u', 'a', 'e', 'e', 'e', 'a', 'e', 'o', 'a', 'a', 'i', 'a', 'o', 'i', 'o', 'i', 'e', 'a', 'u', 'i', 'o', 'u', 'e']\n"
     ]
    }
   ],
   "source": [
    "# Filtering vowels....\n",
    "y = \"you have been hacked by my program and i am going to insert a bug in your system\"\n",
    "x = [i for i in y if i in ['a','e','i','o','u']]; print(x)"
   ]
  },
  {
   "cell_type": "code",
   "execution_count": null,
   "metadata": {},
   "outputs": [],
   "source": [
    "# From a list of characters, create a new list containing only vowels.\n"
   ]
  }
 ],
 "metadata": {
  "kernelspec": {
   "display_name": "Python 3",
   "language": "python",
   "name": "python3"
  },
  "language_info": {
   "codemirror_mode": {
    "name": "ipython",
    "version": 3
   },
   "file_extension": ".py",
   "mimetype": "text/x-python",
   "name": "python",
   "nbconvert_exporter": "python",
   "pygments_lexer": "ipython3",
   "version": "3.12.8"
  }
 },
 "nbformat": 4,
 "nbformat_minor": 2
}
