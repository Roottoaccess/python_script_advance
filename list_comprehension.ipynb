{
 "cells": [
  {
   "cell_type": "code",
   "execution_count": 6,
   "metadata": {},
   "outputs": [
    {
     "name": "stdout",
     "output_type": "stream",
     "text": [
      "[2, 4, 6, 8, 10]\n"
     ]
    }
   ],
   "source": [
    "# Squares of even numbers From the list nums = [1, 2, 3, ..., 10], create a list of squares of only the even numbers.\n",
    "# x = [i for i in range(1, 11) if i % 2 == 0]; print(x)\n",
    "num = [1,2,3,4,5,6,7,8,9,10]\n",
    "x = [i for i in num if i % 2 == 0]; print(x)"
   ]
  },
  {
   "cell_type": "code",
   "execution_count": null,
   "metadata": {},
   "outputs": [
    {
     "name": "stdout",
     "output_type": "stream",
     "text": [
      "['apple', 'orange', 'umbrella']\n"
     ]
    }
   ],
   "source": [
    "# Words starting with a vowel Given words = ['apple', 'banana', 'orange', 'umbrella', 'grape'], extract words that start with a vowel.\n",
    "words = ['apple', 'banana', 'orange', 'umbrella', 'grape']\n",
    "x = [i for i in words if i[0] in ['a','e','i','o','u']]; print(x)"
   ]
  },
  {
   "cell_type": "code",
   "execution_count": 11,
   "metadata": {},
   "outputs": [
    {
     "name": "stdout",
     "output_type": "stream",
     "text": [
      "[3, 4]\n"
     ]
    }
   ],
   "source": [
    "# Common elements\n",
    "# Given two lists a = [1, 2, 3, 4] and b = [3, 4, 5, 6], get a list of elements common to both.\n",
    "a = [1, 2, 3, 4]\n",
    "b = [3, 4, 5, 6]\n",
    "x = [i for i in a for j in b if i == j]; print(x)"
   ]
  },
  {
   "cell_type": "code",
   "execution_count": 25,
   "metadata": {},
   "outputs": [
    {
     "name": "stdout",
     "output_type": "stream",
     "text": [
      "['nhoJ', 'ecilA', 'boB']\n"
     ]
    }
   ],
   "source": [
    "# Reverse strings\n",
    "# From names = ['John', 'Alice', 'Bob'], create a new list with all names reversed.\n",
    "names = ['John', 'Alice', 'Bob']\n",
    "x = [i[::-1] for i in names]; print(x)"
   ]
  },
  {
   "cell_type": "code",
   "execution_count": null,
   "metadata": {},
   "outputs": [],
   "source": [
    "# Flatten a 2D list\n",
    "# Given matrix = [[1,2], [3,4], [5,6]], flatten it into a 1D list.\n",
    "matrix = [[1,2], [3,4], [5,6]]\n"
   ]
  }
 ],
 "metadata": {
  "kernelspec": {
   "display_name": "Python 3",
   "language": "python",
   "name": "python3"
  },
  "language_info": {
   "codemirror_mode": {
    "name": "ipython",
    "version": 3
   },
   "file_extension": ".py",
   "mimetype": "text/x-python",
   "name": "python",
   "nbconvert_exporter": "python",
   "pygments_lexer": "ipython3",
   "version": "3.13.0"
  }
 },
 "nbformat": 4,
 "nbformat_minor": 2
}
